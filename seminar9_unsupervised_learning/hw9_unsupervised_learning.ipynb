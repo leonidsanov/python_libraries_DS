{
  "nbformat": 4,
  "nbformat_minor": 0,
  "metadata": {
    "colab": {
      "provenance": []
    },
    "kernelspec": {
      "name": "python3",
      "display_name": "Python 3"
    },
    "language_info": {
      "name": "python"
    }
  },
  "cells": [
    {
      "cell_type": "markdown",
      "source": [
        "# Домашняя работа к девятому семинару"
      ],
      "metadata": {
        "id": "ZPKoj5pR-iP0"
      }
    },
    {
      "cell_type": "markdown",
      "source": [
        "Использование алгоритмов понижения размерности для улучшения классификации новостей (https://scikit-learn.org/stable/modules/generated/sklearn.datasets.fetch_20newsgroups.html)\n",
        "\n",
        "Цель задания: Исследовать влияние различных методов понижения размерности на качество классификации текстовых данных.\n",
        "\n",
        "Датасет: Набор данных новостных статей\n",
        "(датасет '20 Newsgroups' доступный в sklearn.datasets).\n",
        "\n",
        "Задачи:\n",
        "\n",
        "1. Загрузите датасет '20 Newsgroups' из sklearn.\n",
        "\n",
        "2. Проведите предобработку данных (очистка текста, удаление стоп-слов, векторизация с использованием TF-IDF).\n",
        "\n",
        "3. Примените к полученным векторам TF-IDF следующие методы понижения размерности:\n",
        " - PCA (Principal Component Analysis)\n",
        " - t-SNE (t-distributed Stochastic Neighbor Embedding)\n",
        " - UMAP (Uniform Manifold Approximation and Projection).\n",
        "\n",
        "4. После понижения размерности данных используйте любой метод машинного обучения для классификации новостей по темам.\n",
        "\n",
        "5. Сравните качество классификации для каждого метода понижения размерности. Используйте метрики точности и F1-меру.\n",
        "\n",
        "6. Визуализируйте двумерное представление данных для каждого метода понижения размерности, чтобы оценить, как алгоритмы справляются с сепарацией классов.\n",
        "\n",
        "7. Напишите отчёт, в котором обсудите, какой метод понижения размерности оказал наиболее значительное влияние на качество классификации и почему."
      ],
      "metadata": {
        "id": "Hm6HUSvX-sRt"
      }
    },
    {
      "cell_type": "code",
      "source": [
        "!pip install umap-learn"
      ],
      "metadata": {
        "colab": {
          "base_uri": "https://localhost:8080/"
        },
        "id": "WXU8mhbM4ooR",
        "outputId": "69886ada-451e-4aff-d34a-47e2c03f5932"
      },
      "execution_count": null,
      "outputs": [
        {
          "output_type": "stream",
          "name": "stdout",
          "text": [
            "Requirement already satisfied: umap-learn in /usr/local/lib/python3.10/dist-packages (0.5.6)\n",
            "Requirement already satisfied: numpy>=1.17 in /usr/local/lib/python3.10/dist-packages (from umap-learn) (1.26.4)\n",
            "Requirement already satisfied: scipy>=1.3.1 in /usr/local/lib/python3.10/dist-packages (from umap-learn) (1.13.1)\n",
            "Requirement already satisfied: scikit-learn>=0.22 in /usr/local/lib/python3.10/dist-packages (from umap-learn) (1.3.2)\n",
            "Requirement already satisfied: numba>=0.51.2 in /usr/local/lib/python3.10/dist-packages (from umap-learn) (0.60.0)\n",
            "Requirement already satisfied: pynndescent>=0.5 in /usr/local/lib/python3.10/dist-packages (from umap-learn) (0.5.13)\n",
            "Requirement already satisfied: tqdm in /usr/local/lib/python3.10/dist-packages (from umap-learn) (4.66.5)\n",
            "Requirement already satisfied: llvmlite<0.44,>=0.43.0dev0 in /usr/local/lib/python3.10/dist-packages (from numba>=0.51.2->umap-learn) (0.43.0)\n",
            "Requirement already satisfied: joblib>=0.11 in /usr/local/lib/python3.10/dist-packages (from pynndescent>=0.5->umap-learn) (1.4.2)\n",
            "Requirement already satisfied: threadpoolctl>=2.0.0 in /usr/local/lib/python3.10/dist-packages (from scikit-learn>=0.22->umap-learn) (3.5.0)\n"
          ]
        }
      ]
    },
    {
      "cell_type": "code",
      "source": [
        "import pandas as pd\n",
        "import matplotlib.pyplot as plt\n",
        "from sklearn.datasets import fetch_20newsgroups\n",
        "from sklearn.feature_extraction.text import TfidfVectorizer\n",
        "from sklearn.model_selection import train_test_split\n",
        "from sklearn.preprocessing import StandardScaler\n",
        "from sklearn.pipeline import Pipeline\n",
        "from sklearn.decomposition import PCA\n",
        "from sklearn.manifold import TSNE\n",
        "from sklearn.linear_model import LogisticRegression\n",
        "from sklearn.metrics import accuracy_score, f1_score\n",
        "import umap"
      ],
      "metadata": {
        "id": "a01QGy6zHq99"
      },
      "execution_count": null,
      "outputs": []
    },
    {
      "cell_type": "markdown",
      "source": [
        "## 1. Загрузка датасета"
      ],
      "metadata": {
        "id": "MfvVo0m_H_LE"
      }
    },
    {
      "cell_type": "code",
      "source": [
        "newsgroups = fetch_20newsgroups(subset='all')"
      ],
      "metadata": {
        "id": "IbmsNtaKH0Zc"
      },
      "execution_count": null,
      "outputs": []
    },
    {
      "cell_type": "markdown",
      "source": [
        "## 2. Предобработка данных"
      ],
      "metadata": {
        "id": "w5whNvjjH4Dk"
      }
    },
    {
      "cell_type": "code",
      "source": [
        "# Очистка текста и удаление стоп-слов\n",
        "vectorizer = TfidfVectorizer(stop_words='english')\n",
        "X = vectorizer.fit_transform(newsgroups.data)\n",
        "y = newsgroups.target"
      ],
      "metadata": {
        "id": "Yb2k_2QnH7o1"
      },
      "execution_count": null,
      "outputs": []
    },
    {
      "cell_type": "code",
      "source": [
        "# Разделение данных на обучающую и тестовую выборки\n",
        "X_train, X_test, y_train, y_test = train_test_split(X, y, test_size=0.2, random_state=42)"
      ],
      "metadata": {
        "id": "4MihNY4a4xlJ"
      },
      "execution_count": null,
      "outputs": []
    },
    {
      "cell_type": "markdown",
      "source": [
        "## 3. Применение методов понижения размерности"
      ],
      "metadata": {
        "id": "QPBsLmSN45mp"
      }
    },
    {
      "cell_type": "code",
      "source": [
        "# PCA\n",
        "pca = PCA(n_components=2)\n",
        "X_train_pca = pca.fit_transform(X_train.toarray())\n",
        "X_test_pca = pca.transform(X_test.toarray())"
      ],
      "metadata": {
        "id": "zhAu2e9H5D7x"
      },
      "execution_count": null,
      "outputs": []
    },
    {
      "cell_type": "code",
      "source": [
        "# t-SNE\n",
        "tsne = TSNE(n_components=2, random_state=42)\n",
        "X_train_tsne = tsne.fit_transform(X_train.toarray())\n",
        "X_test_tsne = tsne.transform(X_test.toarray())"
      ],
      "metadata": {
        "colab": {
          "base_uri": "https://localhost:8080/",
          "height": 193
        },
        "id": "4f-uhGJ25L_5",
        "outputId": "b4d8219d-b083-47d2-8374-a50e854ff023"
      },
      "execution_count": null,
      "outputs": [
        {
          "output_type": "error",
          "ename": "NameError",
          "evalue": "name 'TSNE' is not defined",
          "traceback": [
            "\u001b[0;31m---------------------------------------------------------------------------\u001b[0m",
            "\u001b[0;31mNameError\u001b[0m                                 Traceback (most recent call last)",
            "\u001b[0;32m<ipython-input-1-d0a71bb8ae52>\u001b[0m in \u001b[0;36m<cell line: 2>\u001b[0;34m()\u001b[0m\n\u001b[1;32m      1\u001b[0m \u001b[0;31m# t-SNE\u001b[0m\u001b[0;34m\u001b[0m\u001b[0;34m\u001b[0m\u001b[0m\n\u001b[0;32m----> 2\u001b[0;31m \u001b[0mtsne\u001b[0m \u001b[0;34m=\u001b[0m \u001b[0mTSNE\u001b[0m\u001b[0;34m(\u001b[0m\u001b[0mn_components\u001b[0m\u001b[0;34m=\u001b[0m\u001b[0;36m2\u001b[0m\u001b[0;34m,\u001b[0m \u001b[0mrandom_state\u001b[0m\u001b[0;34m=\u001b[0m\u001b[0;36m42\u001b[0m\u001b[0;34m)\u001b[0m\u001b[0;34m\u001b[0m\u001b[0;34m\u001b[0m\u001b[0m\n\u001b[0m\u001b[1;32m      3\u001b[0m \u001b[0mX_train_tsne\u001b[0m \u001b[0;34m=\u001b[0m \u001b[0mtsne\u001b[0m\u001b[0;34m.\u001b[0m\u001b[0mfit_transform\u001b[0m\u001b[0;34m(\u001b[0m\u001b[0mX_train\u001b[0m\u001b[0;34m.\u001b[0m\u001b[0mtoarray\u001b[0m\u001b[0;34m(\u001b[0m\u001b[0;34m)\u001b[0m\u001b[0;34m)\u001b[0m\u001b[0;34m\u001b[0m\u001b[0;34m\u001b[0m\u001b[0m\n\u001b[1;32m      4\u001b[0m \u001b[0mX_test_tsne\u001b[0m \u001b[0;34m=\u001b[0m \u001b[0mtsne\u001b[0m\u001b[0;34m.\u001b[0m\u001b[0mtransform\u001b[0m\u001b[0;34m(\u001b[0m\u001b[0mX_test\u001b[0m\u001b[0;34m.\u001b[0m\u001b[0mtoarray\u001b[0m\u001b[0;34m(\u001b[0m\u001b[0;34m)\u001b[0m\u001b[0;34m)\u001b[0m\u001b[0;34m\u001b[0m\u001b[0;34m\u001b[0m\u001b[0m\n",
            "\u001b[0;31mNameError\u001b[0m: name 'TSNE' is not defined"
          ]
        }
      ]
    },
    {
      "cell_type": "code",
      "source": [
        "# UMAP\n",
        "umap_reducer = umap.UMAP(n_components=2, random_state=42)\n",
        "X_train_umap = umap_reducer.fit_transform(X_train.toarray())\n",
        "X_test_umap = umap_reducer.transform(X_test.toarray())"
      ],
      "metadata": {
        "id": "J6DZneYY5Ovp"
      },
      "execution_count": null,
      "outputs": []
    },
    {
      "cell_type": "markdown",
      "source": [
        "## 4. Классификация новостей"
      ],
      "metadata": {
        "id": "0BsYTS_H5RMB"
      }
    },
    {
      "cell_type": "markdown",
      "source": [
        "Для классификации можно использовать, например, логистическую регрессию:"
      ],
      "metadata": {
        "id": "5HORL0XH5XtZ"
      }
    },
    {
      "cell_type": "code",
      "source": [
        "# Функция для обучения и оценки модели\n",
        "def evaluate_model(X_train, X_test, y_train, y_test):\n",
        "    model = LogisticRegression(max_iter=1000)\n",
        "    model.fit(X_train, y_train)\n",
        "    y_pred = model.predict(X_test)\n",
        "    accuracy = accuracy_score(y_test, y_pred)\n",
        "    f1 = f1_score(y_test, y_pred, average='weighted')\n",
        "    return accuracy, f1"
      ],
      "metadata": {
        "id": "gDZo-Uep5k-x"
      },
      "execution_count": null,
      "outputs": []
    },
    {
      "cell_type": "code",
      "source": [
        "# Оценка моделей\n",
        "accuracy_pca, f1_pca = evaluate_model(X_train_pca, X_test_pca, y_train, y_test)\n",
        "accuracy_tsne, f1_tsne = evaluate_model(X_train_tsne, X_test_tsne, y_train, y_test)\n",
        "accuracy_umap, f1_umap = evaluate_model(X_train_umap, X_test_umap, y_train, y_test)"
      ],
      "metadata": {
        "id": "bmpW8D0k5mDp"
      },
      "execution_count": null,
      "outputs": []
    },
    {
      "cell_type": "markdown",
      "source": [
        "## 5. Сравнение качества классификации"
      ],
      "metadata": {
        "id": "bpfXnQTw5qdi"
      }
    },
    {
      "cell_type": "code",
      "source": [
        "print(f\"PCA: Accuracy = {accuracy_pca}, F1 Score = {f1_pca}\")\n",
        "print(f\"t-SNE: Accuracy = {accuracy_tsne}, F1 Score = {f1_tsne}\")\n",
        "print(f\"UMAP: Accuracy = {accuracy_umap}, F1 Score = {f1_umap}\")"
      ],
      "metadata": {
        "id": "8PMKFMgt5u3J"
      },
      "execution_count": null,
      "outputs": []
    },
    {
      "cell_type": "markdown",
      "source": [
        "## 6. Визуализация данных"
      ],
      "metadata": {
        "id": "Z4SZCR_b511J"
      }
    },
    {
      "cell_type": "code",
      "source": [
        "def plot_2d(X, y, title):\n",
        "    plt.figure(figsize=(10, 7))\n",
        "    plt.scatter(X[:, 0], X[:, 1], c=y, cmap='viridis', s=5)\n",
        "    plt.colorbar()\n",
        "    plt.title(title)\n",
        "    plt.show()"
      ],
      "metadata": {
        "id": "_gtFBcLo56pT"
      },
      "execution_count": null,
      "outputs": []
    },
    {
      "cell_type": "code",
      "source": [
        "plot_2d(X_train_pca, y_train, 'PCA')\n",
        "plot_2d(X_train_tsne, y_train, 't-SNE')\n",
        "plot_2d(X_train_umap, y_train, 'UMAP')"
      ],
      "metadata": {
        "id": "gN3e9HJj6Dd5"
      },
      "execution_count": null,
      "outputs": []
    },
    {
      "cell_type": "markdown",
      "source": [
        "## 7. Написание отчета"
      ],
      "metadata": {
        "id": "BmcCqkET6JtB"
      }
    },
    {
      "cell_type": "markdown",
      "source": [
        "В отчете обсудите результаты, сравните метрики точности и F1-меры для каждого метода понижения размерности, а также визуализации. Обратите внимание на то, какой метод лучше справляется с сепарацией классов и почему."
      ],
      "metadata": {
        "id": "3up5pxNz6OHh"
      }
    }
  ]
}